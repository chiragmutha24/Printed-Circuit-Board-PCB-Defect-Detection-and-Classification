{
  "cells": [
    {
      "cell_type": "markdown",
      "metadata": {
        "id": "uHxYh0qgEZk7"
      },
      "source": [
        "# PCB Defect Classification\n",
        "\n",
        "A. Haidar, \n",
        "H. Amir, \n",
        "M. Chirag"
      ]
    },
    {
      "cell_type": "code",
      "execution_count": 1,
      "metadata": {
        "colab": {
          "base_uri": "https://localhost:8080/"
        },
        "id": "DBwI3IpS_uEC",
        "outputId": "943005b5-fd27-4d14-ee97-cbb7ebfb9abb"
      },
      "outputs": [
        {
          "data": {
            "text/plain": [
              "\"\\nfrom google.colab import drive\\ndrive.mount('/content/drive/')\\n\""
            ]
          },
          "execution_count": 1,
          "metadata": {},
          "output_type": "execute_result"
        }
      ],
      "source": [
        "# Establish Main Folder as Google Drive\n",
        "\"\"\"\n",
        "from google.colab import drive\n",
        "drive.mount('/content/drive/')\n",
        "\"\"\""
      ]
    },
    {
      "cell_type": "code",
      "execution_count": 4,
      "metadata": {},
      "outputs": [
        {
          "name": "stdout",
          "output_type": "stream",
          "text": [
            "Collecting opencv-python\n",
            "  Using cached opencv_python-4.5.5.64-cp36-abi3-win_amd64.whl (35.4 MB)\n",
            "Requirement already satisfied: numpy>=1.14.5 in c:\\users\\chira\\appdata\\local\\programs\\python\\python37\\lib\\site-packages (from opencv-python) (1.21.5)\n",
            "Installing collected packages: opencv-python\n",
            "Successfully installed opencv-python-4.5.5.64\n"
          ]
        }
      ],
      "source": [
        "! pip install opencv-python"
      ]
    },
    {
      "cell_type": "code",
      "execution_count": 50,
      "metadata": {
        "id": "N0KPWqo-Fk4t"
      },
      "outputs": [],
      "source": [
        "import numpy as np\n",
        "import matplotlib.pyplot as plt\n",
        "import tensorflow as tf\n",
        "from tensorflow import keras\n",
        "import matplotlib.image as img\n",
        "from tensorflow.keras import layers, models\n",
        "from gc import callbacks\n",
        "import os\n",
        "import cv2\n",
        "import tempfile\n",
        "import zipfile\n",
        "import os\n",
        "\n",
        "%matplotlib inline"
      ]
    },
    {
      "cell_type": "code",
      "execution_count": 6,
      "metadata": {},
      "outputs": [],
      "source": [
        "import tensorflow_model_optimization as tfmot\n",
        "from tensorflow_model_optimization.sparsity import keras as sparsity \n"
      ]
    },
    {
      "cell_type": "code",
      "execution_count": 24,
      "metadata": {},
      "outputs": [],
      "source": [
        "class Data_Processor:\n",
        "    def __init__(self, folder, img_size, des_size, des_box_size):\n",
        "        self.folder = folder\n",
        "        self.img_size = img_size\n",
        "        self.des_size = des_size\n",
        "        self.des_box_size = des_box_size\n",
        "        self.num_train = 1000\n",
        "        self.num_test = 500\n",
        "        self.num_classes = 6\n",
        "        self.X_train_loc, self.X_train_temp_loc, self.y_train_loc, \\\n",
        "            self.X_test_loc, self.X_test_temp_loc, self.y_test_loc = self.file_loc()\n",
        "        self.X_train, self.X_train_temp, self.X_test, self.X_test_temp = self.img_reader()\n",
        "        self.y_train, self.y_test = self.label_reader()\n",
        "\n",
        "    def file_loc(self):\n",
        "        # Reads text files\n",
        "        with open (self.folder+\"/trainval.txt\", \"r\") as f1, open (self.folder+\"/test.txt\", \"r\") as f2:\n",
        "            train_labels = f1.read()\n",
        "            test_labels = f2.read()\n",
        "\n",
        "        train_labels, test_labels = train_labels.split(\"\\n\"), test_labels.split(\"\\n\")\n",
        "        Temp = np.array([train_labels[i].split(\" \") for i in range(self.num_train)])\n",
        "        X_train_loc_pre, y_train_loc = Temp[:,0], Temp[:,1]\n",
        "        Temp = np.array([test_labels[i].split(\" \") for i in range(self.num_test)])\n",
        "        X_test_loc_pre, y_test_loc = Temp[:,0], Temp[:,1]\n",
        "\n",
        "        X_train_loc = []\n",
        "        X_test_loc = []\n",
        "        X_train_temp_loc = []\n",
        "        X_test_temp_loc = []\n",
        "        for i in range(self.num_train):\n",
        "            X_train_loc.append(X_train_loc_pre[i].replace(\".jpg\", \"_test.jpg\"))\n",
        "            X_train_temp_loc.append(X_train_loc_pre[i].replace(\".jpg\", \"_temp.jpg\"))\n",
        "        for i in range(self.num_test):\n",
        "            X_test_loc.append(X_test_loc_pre[i].replace(\".jpg\", \"_test.jpg\"))\n",
        "            X_test_temp_loc.append(X_test_loc_pre[i].replace(\".jpg\", \"_temp.jpg\"))\n",
        "\n",
        "        X_train_loc = np.array(X_train_loc)\n",
        "        X_train_temp_loc = np.array(X_train_temp_loc)\n",
        "        X_test_loc = np.array(X_test_loc)\n",
        "        X_test_temp_loc = np.array(X_test_temp_loc)\n",
        "        return X_train_loc, X_train_temp_loc, y_train_loc, X_test_loc, X_test_temp_loc, y_test_loc\n",
        "\n",
        "    def img_reader(self):\n",
        "        # Read all images and convert to B&W\n",
        "        X_train = np.zeros([self.num_train, self.des_size, self.des_size], dtype=np.float16)\n",
        "        X_train_temp = np.zeros([self.num_train, self.des_size, self.des_size], dtype=np.float16)\n",
        "        X_test = np.zeros([self.num_test, self.des_size, self.des_size], dtype=np.float16)\n",
        "        X_test_temp = np.zeros([self.num_test, self.des_size, self.des_size], dtype=np.float16)\n",
        "\n",
        "        for i in range(self.num_train):\n",
        "            Train = img.imread(self.folder + \"/\" + self.X_train_loc[i])/255\n",
        "            T_Temp = img.imread(self.folder + \"/\" + self.X_train_temp_loc[i])/255\n",
        "\n",
        "            if len(Train.shape) == 2: #If black and white\n",
        "                Train = cv2.resize(Train, (self.des_size, self.des_size))\n",
        "                X_train[i] = Train\n",
        "            else: #If RGB\n",
        "                Train = cv2.resize(np.max(Train, axis=-1), (self.des_size, self.des_size))\n",
        "                X_train[i] = Train\n",
        "\n",
        "            if len(T_Temp.shape) == 2:\n",
        "                T_Temp = cv2.resize(T_Temp, (self.des_size, self.des_size))\n",
        "                X_train_temp[i] = T_Temp\n",
        "            else:\n",
        "                T_Temp = cv2.resize(np.max(T_Temp, axis=-1), (self.des_size, self.des_size))\n",
        "                X_train_temp[i] = T_Temp\n",
        "\n",
        "        for i in range(self.num_test):\n",
        "            Test = img.imread(self.folder + \"/\" + self.X_test_loc[i])/255\n",
        "            T_Temp = img.imread(self.folder + \"/\" + self.X_test_temp_loc[i])/255\n",
        "\n",
        "            if len(Test.shape) == 2:\n",
        "                Test = cv2.resize(Test, (self.des_size, self.des_size))\n",
        "                X_test[i] = Test\n",
        "            else:\n",
        "                Test = cv2.resize(np.max(Test, axis=-1), (self.des_size, self.des_size))\n",
        "                X_test[i] = np.max(Test, axis=-1)\n",
        "\n",
        "            if len(T_Temp.shape) == 2:\n",
        "                T_Temp = cv2.resize(T_Temp, (self.des_size, self.des_size))\n",
        "                X_test_temp[i] = T_Temp\n",
        "            else:\n",
        "                T_Temp = cv2.resize(np.max(T_Temp, axis=-1), (self.des_size, self.des_size))\n",
        "                X_test_temp[i] = T_Temp\n",
        "\n",
        "        return X_train, X_train_temp, X_test, X_test_temp\n",
        "\n",
        "    def label_reader(self):\n",
        "        # Read all labels\n",
        "        y_train = []\n",
        "        y_test = []\n",
        "        for i in range(self.num_train):\n",
        "            with open(self.folder+\"/\"+self.y_train_loc[i], \"r\") as f1:\n",
        "                Temp = f1.read().split(\"\\n\")\n",
        "            Temp = list(filter(None,Temp))\n",
        "            Temp = np.array([Temp[j].split(\" \") for j in range(len(Temp))])\n",
        "            x1, y1, x2, y2, cs = Temp[:,0], Temp[:,1], Temp[:,2], Temp[:,3], Temp[:,4]\n",
        "\n",
        "            Temp = np.zeros((self.img_size, self.img_size, 1))\n",
        "            for j in range(x1.shape[0]):\n",
        "                Temp = cv2.rectangle(Temp, (int(x1[j]), int(y1[j])), (int(x2[j]), int(y2[j])), color = int(cs[j]), thickness = int(-1))\n",
        "            Temp = cv2.resize(Temp, (self.des_box_size, self.des_box_size))\n",
        "            y_train.append(Temp)\n",
        "        y_train = np.array(y_train)\n",
        "                            \n",
        "        for i in range(self.num_test):\n",
        "            with open(self.folder+\"/\"+self.y_test_loc[i], \"r\") as f1:\n",
        "                Temp = f1.read().split(\"\\n\")\n",
        "            Temp = list(filter(None,Temp))\n",
        "            Temp = np.array([Temp[j].split(\" \") for j in range(len(Temp))])\n",
        "            x1, y1, x2, y2, cs = Temp[:,0], Temp[:,1], Temp[:,2], Temp[:,3], Temp[:,4]\n",
        "\n",
        "            Temp = np.zeros((self.img_size, self.img_size, 1))\n",
        "            for j in range(x1.shape[0]):\n",
        "                Temp = cv2.rectangle(Temp, (int(x1[j]), int(y1[j])), (int(x2[j]), int(y2[j])), color = int(cs[j]), thickness = int(-1))\n",
        "            Temp = cv2.resize(Temp,(self.des_box_size, self.des_box_size))\n",
        "            y_test.append(Temp)\n",
        "        y_test = np.array(y_test)\n",
        "        return y_train, y_test"
      ]
    },
    {
      "cell_type": "code",
      "execution_count": 25,
      "metadata": {},
      "outputs": [],
      "source": [
        "# Load Data\n",
        "folder = \"PCBData\"\n",
        "reader = Data_Processor(folder, 640, 128, 88)"
      ]
    },
    {
      "cell_type": "code",
      "execution_count": 38,
      "metadata": {},
      "outputs": [
        {
          "data": {
            "image/png": "[encoded data removed]",
            "text/plain": [
              "<Figure size 432x288 with 1 Axes>"
            ]
          },
          "metadata": {
            "needs_background": "light"
          },
          "output_type": "display_data"
        }
      ],
      "source": [
        "plt.imshow(np.reshape(reader.y_train[1],(reader.des_box_size,reader.des_box_size)),cmap='gnuplot')\n",
        "plt.show()"
      ]
    },
    {
      "cell_type": "code",
      "execution_count": 39,
      "metadata": {},
      "outputs": [
        {
          "data": {
            "image/png": "[encoded data removed]",
            "text/plain": [
              "<Figure size 432x288 with 1 Axes>"
            ]
          },
          "metadata": {
            "needs_background": "light"
          },
          "output_type": "display_data"
        }
      ],
      "source": [
        "plt.imshow(reader.X_train[1])\n",
        "plt.show()"
      ]
    },
    {
      "cell_type": "code",
      "execution_count": 40,
      "metadata": {},
      "outputs": [],
      "source": [
        "dataset_train = tf.data.Dataset.from_tensor_slices((reader.X_train, reader.y_train))\n",
        "dataset_test = tf.data.Dataset.from_tensor_slices((reader.X_test, reader.y_test))\n",
        "\n",
        "BATCH_NUM = 128\n",
        "\n",
        "dataset_train = dataset_train.shuffle(reader.num_train)\n",
        "dataset_test = dataset_test.shuffle(reader.num_test)\n",
        "\n",
        "dataset_train = dataset_train.batch(BATCH_NUM)\n",
        "dataset_test = dataset_test.batch(BATCH_NUM)"
      ]
    },
    {
      "cell_type": "markdown",
      "metadata": {},
      "source": [
        "# Build UNET"
      ]
    },
    {
      "cell_type": "code",
      "execution_count": 41,
      "metadata": {},
      "outputs": [
        {
          "name": "stdout",
          "output_type": "stream",
          "text": [
            "32\n"
          ]
        }
      ],
      "source": [
        "epochs = 4\n",
        "end_step = np.ceil(1.0 * reader.num_train / BATCH_NUM).astype(np.int32) * epochs\n",
        "print(end_step)"
      ]
    },
    {
      "cell_type": "code",
      "execution_count": 42,
      "metadata": {},
      "outputs": [],
      "source": [
        "pruning_params = {\n",
        "      'pruning_schedule': sparsity.PolynomialDecay(initial_sparsity=0.50,\n",
        "                                                   final_sparsity=0.90,\n",
        "                                                   begin_step=0,\n",
        "                                                   end_step=end_step,\n",
        "                                                   frequency=10)\n",
        "}\n"
      ]
    },
    {
      "cell_type": "code",
      "execution_count": 51,
      "metadata": {},
      "outputs": [
        {
          "name": "stderr",
          "output_type": "stream",
          "text": [
            "C:\\Users\\chira\\AppData\\Local\\Programs\\Python\\Python37\\lib\\site-packages\\tensorflow_model_optimization\\python\\core\\sparsity\\keras\\pruning_wrapper.py:218: UserWarning: `layer.add_variable` is deprecated and will be removed in a future version. Please use `layer.add_weight` method instead.\n",
            "  aggregation=tf.VariableAggregation.MEAN)\n",
            "C:\\Users\\chira\\AppData\\Local\\Programs\\Python\\Python37\\lib\\site-packages\\tensorflow_model_optimization\\python\\core\\sparsity\\keras\\pruning_wrapper.py:225: UserWarning: `layer.add_variable` is deprecated and will be removed in a future version. Please use `layer.add_weight` method instead.\n",
            "  aggregation=tf.VariableAggregation.MEAN)\n",
            "C:\\Users\\chira\\AppData\\Local\\Programs\\Python\\Python37\\lib\\site-packages\\tensorflow_model_optimization\\python\\core\\sparsity\\keras\\pruning_wrapper.py:238: UserWarning: `layer.add_variable` is deprecated and will be removed in a future version. Please use `layer.add_weight` method instead.\n",
            "  trainable=False)\n"
          ]
        }
      ],
      "source": [
        "## layer5 cnn bn he flip\n",
        "inputs = keras.layers.Input((128,128,1))\n",
        "# x = keras.layers.experimental.preprocessing.Resizing(128,128)(inputs)\n",
        "x = keras.layers.experimental.preprocessing.RandomFlip(mode='horizontal_and_vertical')(inputs)\n",
        "\n",
        "x = sparsity.prune_low_magnitude(keras.layers.Conv2D(filters=64,kernel_size=3,kernel_initializer=tf.keras.initializers.HeNormal()), **pruning_params)(x) #126 126 64\n",
        "x = keras.layers.Activation('relu')(x)\n",
        "#x = keras.layers.Dropout(0.2)(x)\n",
        "x = sparsity.prune_low_magnitude(keras.layers.Conv2D(filters=64,kernel_size=3,kernel_initializer=tf.keras.initializers.HeNormal()), **pruning_params)(x) #124 124 64\n",
        "x = keras.layers.Activation('relu')(x)\n",
        "#x = keras.layers.Dropout(0.2)(x)\n",
        "x1 = tf.identity(x)\n",
        "x1 = keras.layers.experimental.preprocessing.CenterCrop(92,92)(x1)\n",
        "\n",
        "x = keras.layers.MaxPooling2D((2, 2), strides=2)(x) #62 62,64\n",
        "\n",
        "x = sparsity.prune_low_magnitude(keras.layers.Conv2D(filters=128,kernel_size=3,kernel_initializer=tf.keras.initializers.HeNormal()), **pruning_params)(x) #60 60 128\n",
        "x = keras.layers.Activation('relu')(x)\n",
        "#x = keras.layers.Dropout(0.2)(x)\n",
        "x = sparsity.prune_low_magnitude(keras.layers.Conv2D(filters=128,kernel_size=3,kernel_initializer=tf.keras.initializers.HeNormal()), **pruning_params)(x) #58 58 128\n",
        "x = keras.layers.Activation('relu')(x)\n",
        "#x = keras.layers.Dropout(0.2)(x)\n",
        "x2 = tf.identity(x)\n",
        "x2 = keras.layers.experimental.preprocessing.CenterCrop(50,50)(x2)\n",
        "\n",
        "x = keras.layers.MaxPooling2D((2, 2), strides=2)(x) #29 29 128\n",
        "\n",
        "x = sparsity.prune_low_magnitude(keras.layers.Conv2D(filters=256,kernel_size=3,kernel_initializer=tf.keras.initializers.HeNormal()), **pruning_params)(x) #27 27 256\n",
        "x = keras.layers.Activation('relu')(x)\n",
        "#x = keras.layers.Dropout(0.2)(x)\n",
        "x = sparsity.prune_low_magnitude(keras.layers.Conv2D(filters=256,kernel_size=3,kernel_initializer=tf.keras.initializers.HeNormal()), **pruning_params)(x) #25 25 256\n",
        "x = keras.layers.Activation('relu')(x)\n",
        "#x = keras.layers.Dropout(0.2)(x)\n",
        "\n",
        "x = tf.keras.layers.Conv2DTranspose(filters=128, kernel_size=2, strides=(2, 2),kernel_initializer=tf.keras.initializers.HeNormal())(x) # 50 50 128\n",
        "\n",
        "x = keras.layers.Concatenate()([x,x2]) #50 50 256\n",
        "x = sparsity.prune_low_magnitude(keras.layers.Conv2D(filters=128,kernel_size=3,kernel_initializer=tf.keras.initializers.HeNormal()), **pruning_params)(x) #48 48 128\n",
        "x = keras.layers.Activation('relu')(x)\n",
        "#x = keras.layers.Dropout(0.2)(x)\n",
        "x = sparsity.prune_low_magnitude(keras.layers.Conv2D(filters=128,kernel_size=3,kernel_initializer=tf.keras.initializers.HeNormal()), **pruning_params)(x) #46 46 128\n",
        "x = keras.layers.Activation('relu')(x)\n",
        "#x = keras.layers.Dropout(0.2)(x)\n",
        "\n",
        "x = tf.keras.layers.Conv2DTranspose(filters=64, kernel_size=2, strides=(2, 2),kernel_initializer=tf.keras.initializers.HeNormal())(x) # 92 92 64\n",
        "\n",
        "x = keras.layers.Concatenate()([x,x1]) #92,92 128\n",
        "x = sparsity.prune_low_magnitude(keras.layers.Conv2D(filters=64,kernel_size=3,kernel_initializer=tf.keras.initializers.HeNormal()), **pruning_params)(x) #90 90 64\n",
        "x = keras.layers.Activation('relu')(x)\n",
        "#x = keras.layers.Dropout(0.2)(x)\n",
        "x = sparsity.prune_low_magnitude(keras.layers.Conv2D(filters=64,kernel_size=3,kernel_initializer=tf.keras.initializers.HeNormal()), **pruning_params)(x) #88 88 64\n",
        "x = keras.layers.Activation('relu')(x)\n",
        "#x = keras.layers.Dropout(0.2)(x)\n",
        "\n",
        "outputs = keras.layers.Conv2D(filters=7,kernel_size=1,kernel_initializer=tf.keras.initializers.HeNormal())(x) #88 88 7"
      ]
    },
    {
      "cell_type": "code",
      "execution_count": 44,
      "metadata": {},
      "outputs": [
        {
          "name": "stdout",
          "output_type": "stream",
          "text": [
            "Model: \"model\"\n",
            "__________________________________________________________________________________________________\n",
            " Layer (type)                   Output Shape         Param #     Connected to                     \n",
            "==================================================================================================\n",
            " input_1 (InputLayer)           [(None, 128, 128, 1  0           []                               \n",
            "                                )]                                                                \n",
            "                                                                                                  \n",
            " random_flip (RandomFlip)       (None, 128, 128, 1)  0           ['input_1[0][0]']                \n",
            "                                                                                                  \n",
            " prune_low_magnitude_conv2d (Pr  (None, 126, 126, 64  1218       ['random_flip[0][0]']            \n",
            " uneLowMagnitude)               )                                                                 \n",
            "                                                                                                  \n",
            " activation (Activation)        (None, 126, 126, 64  0           ['prune_low_magnitude_conv2d[0][0\n",
            "                                )                                ]']                              \n",
            "                                                                                                  \n",
            " prune_low_magnitude_conv2d_1 (  (None, 124, 124, 64  73794      ['activation[0][0]']             \n",
            " PruneLowMagnitude)             )                                                                 \n",
            "                                                                                                  \n",
            " activation_1 (Activation)      (None, 124, 124, 64  0           ['prune_low_magnitude_conv2d_1[0]\n",
            "                                )                                [0]']                            \n",
            "                                                                                                  \n",
            " max_pooling2d (MaxPooling2D)   (None, 62, 62, 64)   0           ['activation_1[0][0]']           \n",
            "                                                                                                  \n",
            " prune_low_magnitude_conv2d_2 (  (None, 60, 60, 128)  147586     ['max_pooling2d[0][0]']          \n",
            " PruneLowMagnitude)                                                                               \n",
            "                                                                                                  \n",
            " activation_2 (Activation)      (None, 60, 60, 128)  0           ['prune_low_magnitude_conv2d_2[0]\n",
            "                                                                 [0]']                            \n",
            "                                                                                                  \n",
            " prune_low_magnitude_conv2d_3 (  (None, 58, 58, 128)  295042     ['activation_2[0][0]']           \n",
            " PruneLowMagnitude)                                                                               \n",
            "                                                                                                  \n",
            " activation_3 (Activation)      (None, 58, 58, 128)  0           ['prune_low_magnitude_conv2d_3[0]\n",
            "                                                                 [0]']                            \n",
            "                                                                                                  \n",
            " max_pooling2d_1 (MaxPooling2D)  (None, 29, 29, 128)  0          ['activation_3[0][0]']           \n",
            "                                                                                                  \n",
            " prune_low_magnitude_conv2d_4 (  (None, 27, 27, 256)  590082     ['max_pooling2d_1[0][0]']        \n",
            " PruneLowMagnitude)                                                                               \n",
            "                                                                                                  \n",
            " activation_4 (Activation)      (None, 27, 27, 256)  0           ['prune_low_magnitude_conv2d_4[0]\n",
            "                                                                 [0]']                            \n",
            "                                                                                                  \n",
            " prune_low_magnitude_conv2d_5 (  (None, 25, 25, 256)  1179906    ['activation_4[0][0]']           \n",
            " PruneLowMagnitude)                                                                               \n",
            "                                                                                                  \n",
            " activation_5 (Activation)      (None, 25, 25, 256)  0           ['prune_low_magnitude_conv2d_5[0]\n",
            "                                                                 [0]']                            \n",
            "                                                                                                  \n",
            " tf.identity_1 (TFOpLambda)     (None, 58, 58, 128)  0           ['activation_3[0][0]']           \n",
            "                                                                                                  \n",
            " conv2d_transpose (Conv2DTransp  (None, 50, 50, 128)  131200     ['activation_5[0][0]']           \n",
            " ose)                                                                                             \n",
            "                                                                                                  \n",
            " center_crop_1 (CenterCrop)     (None, 50, 50, 128)  0           ['tf.identity_1[0][0]']          \n",
            "                                                                                                  \n",
            " concatenate (Concatenate)      (None, 50, 50, 256)  0           ['conv2d_transpose[0][0]',       \n",
            "                                                                  'center_crop_1[0][0]']          \n",
            "                                                                                                  \n",
            " prune_low_magnitude_conv2d_6 (  (None, 48, 48, 128)  589954     ['concatenate[0][0]']            \n",
            " PruneLowMagnitude)                                                                               \n",
            "                                                                                                  \n",
            " activation_6 (Activation)      (None, 48, 48, 128)  0           ['prune_low_magnitude_conv2d_6[0]\n",
            "                                                                 [0]']                            \n",
            "                                                                                                  \n",
            " prune_low_magnitude_conv2d_7 (  (None, 46, 46, 128)  295042     ['activation_6[0][0]']           \n",
            " PruneLowMagnitude)                                                                               \n",
            "                                                                                                  \n",
            " activation_7 (Activation)      (None, 46, 46, 128)  0           ['prune_low_magnitude_conv2d_7[0]\n",
            "                                                                 [0]']                            \n",
            "                                                                                                  \n",
            " tf.identity (TFOpLambda)       (None, 124, 124, 64  0           ['activation_1[0][0]']           \n",
            "                                )                                                                 \n",
            "                                                                                                  \n",
            " conv2d_transpose_1 (Conv2DTran  (None, 92, 92, 64)  32832       ['activation_7[0][0]']           \n",
            " spose)                                                                                           \n",
            "                                                                                                  \n",
            " center_crop (CenterCrop)       (None, 92, 92, 64)   0           ['tf.identity[0][0]']            \n",
            "                                                                                                  \n",
            " concatenate_1 (Concatenate)    (None, 92, 92, 128)  0           ['conv2d_transpose_1[0][0]',     \n",
            "                                                                  'center_crop[0][0]']            \n",
            "                                                                                                  \n",
            " prune_low_magnitude_conv2d_8 (  (None, 90, 90, 64)  147522      ['concatenate_1[0][0]']          \n",
            " PruneLowMagnitude)                                                                               \n",
            "                                                                                                  \n",
            " activation_8 (Activation)      (None, 90, 90, 64)   0           ['prune_low_magnitude_conv2d_8[0]\n",
            "                                                                 [0]']                            \n",
            "                                                                                                  \n",
            " prune_low_magnitude_conv2d_9 (  (None, 88, 88, 64)  73794       ['activation_8[0][0]']           \n",
            " PruneLowMagnitude)                                                                               \n",
            "                                                                                                  \n",
            " activation_9 (Activation)      (None, 88, 88, 64)   0           ['prune_low_magnitude_conv2d_9[0]\n",
            "                                                                 [0]']                            \n",
            "                                                                                                  \n",
            " conv2d_10 (Conv2D)             (None, 88, 88, 7)    455         ['activation_9[0][0]']           \n",
            "                                                                                                  \n",
            "==================================================================================================\n",
            "Total params: 3,558,427\n",
            "Trainable params: 1,862,087\n",
            "Non-trainable params: 1,696,340\n",
            "__________________________________________________________________________________________________\n"
          ]
        }
      ],
      "source": [
        "model = keras.Model(inputs, outputs)\n",
        "model.summary()"
      ]
    },
    {
      "cell_type": "code",
      "execution_count": 52,
      "metadata": {},
      "outputs": [],
      "source": [
        "model.compile(\n",
        "    optimizer='adam',\n",
        "    loss=tf.keras.losses.SparseCategoricalCrossentropy(from_logits=True),\n",
        "    metrics=['accuracy']\n",
        ")"
      ]
    },
    {
      "cell_type": "code",
      "execution_count": 53,
      "metadata": {},
      "outputs": [],
      "source": [
        "import tempfile\n",
        "from keras.callbacks import ModelCheckpoint\n",
        "\n",
        "savepath='Checkpoints/5_3_700'\n",
        "checkpoint = ModelCheckpoint(savepath,monitor='val_loss',mode='min',save_best_only=True,verbose=1)\n",
        "\n",
        "logdir = tempfile.mkdtemp()\n",
        "callbacks = [\n",
        "    sparsity.UpdatePruningStep(),\n",
        "    sparsity.PruningSummaries(log_dir=logdir, profile_batch=0),\n",
        "    checkpoint\n",
        "]"
      ]
    },
    {
      "cell_type": "code",
      "execution_count": 59,
      "metadata": {},
      "outputs": [],
      "source": [
        "# checkpointer = tf.keras.callbacks.ModelCheckpoint('model_for_pcb_defect_detection.h5', verbose=2, save_best_only=True) \n",
        "# callback = [\n",
        "#     tf.keras.callbacks.EarlyStopping(patience=2, monitor='val_loss'),\n",
        "#     tf.keras.callbacks.TensorBoard(log_dir='logs')]"
      ]
    },
    {
      "cell_type": "code",
      "execution_count": 64,
      "metadata": {},
      "outputs": [
        {
          "name": "stdout",
          "output_type": "stream",
          "text": [
            "Epoch 1/700\n",
            "8/8 [==============================] - 111s 14s/step - loss: 0.2664 - accuracy: 0.9733 - val_loss: 0.1680 - val_accuracy: 0.9763\n",
            "Epoch 2/700\n",
            "8/8 [==============================] - 101s 13s/step - loss: 0.2319 - accuracy: 0.9733 - val_loss: 0.2133 - val_accuracy: 0.9763\n",
            "Epoch 3/700\n",
            "8/8 [==============================] - 101s 13s/step - loss: 0.1959 - accuracy: 0.9733 - val_loss: 0.1761 - val_accuracy: 0.9763\n"
          ]
        }
      ],
      "source": [
        "history = model.fit(reader.X_train, reader.y_train, epochs=700, batch_size=128, callbacks=callbacks, validation_data=(reader.X_test, reader.y_test), verbose=1)\n",
        "# history = model.fit(reader.X_train, reader.y_train, epochs=10, validation_data=(reader.X_test, reader.y_test), verbose=2)"
      ]
    },
    {
      "cell_type": "code",
      "execution_count": 65,
      "metadata": {},
      "outputs": [
        {
          "name": "stdout",
          "output_type": "stream",
          "text": [
            "Test loss: 0.17609785497188568\n",
            "Test accuracy: 0.976331889629364\n"
          ]
        }
      ],
      "source": [
        "score = model.evaluate(reader.X_test, reader.y_test, verbose=0)\n",
        "print('Test loss:', score[0])\n",
        "print('Test accuracy:', score[1])\n",
        "\n"
      ]
    },
    {
      "cell_type": "code",
      "execution_count": 66,
      "metadata": {},
      "outputs": [
        {
          "ename": "NameError",
          "evalue": "name 'pruned_model' is not defined",
          "output_type": "error",
          "traceback": [
            "\u001b[1;31m---------------------------------------------------------------------------\u001b[0m",
            "\u001b[1;31mNameError\u001b[0m                                 Traceback (most recent call last)",
            "\u001b[1;32m~\\AppData\\Local\\Temp/ipykernel_21908/1387300832.py\u001b[0m in \u001b[0;36m<module>\u001b[1;34m\u001b[0m\n\u001b[0;32m      1\u001b[0m \u001b[1;31m# Strip the pruning wrappers from the pruned model before export for serving\u001b[0m\u001b[1;33m\u001b[0m\u001b[1;33m\u001b[0m\u001b[1;33m\u001b[0m\u001b[0m\n\u001b[0;32m      2\u001b[0m \u001b[1;33m\u001b[0m\u001b[0m\n\u001b[1;32m----> 3\u001b[1;33m \u001b[0mfinal_pruned_model\u001b[0m \u001b[1;33m=\u001b[0m \u001b[0msparsity\u001b[0m\u001b[1;33m.\u001b[0m\u001b[0mstrip_pruning\u001b[0m\u001b[1;33m(\u001b[0m\u001b[0mpruned_model\u001b[0m\u001b[1;33m)\u001b[0m\u001b[1;33m\u001b[0m\u001b[1;33m\u001b[0m\u001b[0m\n\u001b[0m\u001b[0;32m      4\u001b[0m \u001b[0mfinal_pruned_model\u001b[0m\u001b[1;33m.\u001b[0m\u001b[0msummary\u001b[0m\u001b[1;33m(\u001b[0m\u001b[1;33m)\u001b[0m\u001b[1;33m\u001b[0m\u001b[1;33m\u001b[0m\u001b[0m\n",
            "\u001b[1;31mNameError\u001b[0m: name 'pruned_model' is not defined"
          ]
        }
      ],
      "source": [
        "# Strip the pruning wrappers from the pruned model before export for serving\n",
        "\n",
        "final_pruned_model = sparsity.strip_pruning(pruned_model)\n",
        "final_pruned_model.summary()"
      ]
    },
    {
      "cell_type": "markdown",
      "metadata": {},
      "source": [
        "Results: "
      ]
    },
    {
      "cell_type": "code",
      "execution_count": null,
      "metadata": {},
      "outputs": [],
      "source": []
    },
    {
      "cell_type": "code",
      "execution_count": 35,
      "metadata": {},
      "outputs": [
        {
          "data": {
            "image/png": "[encoded data removed]",
            "text/plain": [
              "<Figure size 576x432 with 1 Axes>"
            ]
          },
          "metadata": {
            "needs_background": "light"
          },
          "output_type": "display_data"
        }
      ],
      "source": [
        "plt.figure(figsize=(8,6))\n",
        "plt.plot(history.history['loss'])\n",
        "plt.ylim(0.145, 0.17)\n",
        "plt.xlim(0, 225)\n",
        "plt.xlabel(\"Epochs\", size = 16)\n",
        "plt.ylabel(\"Loss\", size = 16)\n",
        "plt.savefig('Loss.pdf', dpi=720, bbox_inches='tight')\n",
        "plt.savefig('Loss.PNG', dpi=720, bbox_inches='tight')"
      ]
    },
    {
      "cell_type": "code",
      "execution_count": 36,
      "metadata": {},
      "outputs": [
        {
          "data": {
            "image/png": "[encoded data removed]",
            "text/plain": [
              "<Figure size 576x432 with 1 Axes>"
            ]
          },
          "metadata": {
            "needs_background": "light"
          },
          "output_type": "display_data"
        }
      ],
      "source": [
        "plt.figure(figsize=(8,6))\n",
        "plt.plot(history.history['val_loss'])\n",
        "plt.ylim(0.14, 0.16)\n",
        "plt.xlim(0, 225)\n",
        "plt.xlabel(\"Epochs\", size = 16)\n",
        "plt.ylabel(\"Val Loss\", size = 16)\n",
        "plt.savefig('ValLoss.pdf', dpi=720, bbox_inches='tight')\n",
        "plt.savefig('ValLoss.PNG', dpi=720, bbox_inches='tight')"
      ]
    },
    {
      "cell_type": "code",
      "execution_count": 30,
      "metadata": {},
      "outputs": [
        {
          "name": "stdout",
          "output_type": "stream",
          "text": [
            "0.1434776932001114\n",
            "0.0529971681535244\n"
          ]
        }
      ],
      "source": [
        "print(min(history.history[\"val_loss\"]))\n",
        "print(min(history.history[\"loss\"]))"
      ]
    },
    {
      "cell_type": "markdown",
      "metadata": {},
      "source": [
        "Plot Predict\n"
      ]
    },
    {
      "cell_type": "code",
      "execution_count": 1,
      "metadata": {},
      "outputs": [
        {
          "ename": "NameError",
          "evalue": "name 'model' is not defined",
          "output_type": "error",
          "traceback": [
            "\u001b[1;31m---------------------------------------------------------------------------\u001b[0m",
            "\u001b[1;31mNameError\u001b[0m                                 Traceback (most recent call last)",
            "\u001b[1;32m~\\AppData\\Local\\Temp/ipykernel_22896/2439703016.py\u001b[0m in \u001b[0;36m<module>\u001b[1;34m\u001b[0m\n\u001b[1;32m----> 1\u001b[1;33m \u001b[0mout\u001b[0m \u001b[1;33m=\u001b[0m \u001b[0mmodel\u001b[0m\u001b[1;33m.\u001b[0m\u001b[0mpredict\u001b[0m\u001b[1;33m(\u001b[0m\u001b[0mtf\u001b[0m\u001b[1;33m.\u001b[0m\u001b[0mreshape\u001b[0m\u001b[1;33m(\u001b[0m\u001b[0mreader\u001b[0m\u001b[1;33m.\u001b[0m\u001b[0mX_train\u001b[0m\u001b[1;33m[\u001b[0m\u001b[1;36m1\u001b[0m\u001b[1;33m]\u001b[0m\u001b[1;33m,\u001b[0m\u001b[1;33m(\u001b[0m\u001b[1;33m-\u001b[0m\u001b[1;36m1\u001b[0m\u001b[1;33m,\u001b[0m\u001b[1;36m128\u001b[0m\u001b[1;33m,\u001b[0m\u001b[1;36m128\u001b[0m\u001b[1;33m,\u001b[0m\u001b[1;36m1\u001b[0m\u001b[1;33m)\u001b[0m\u001b[1;33m)\u001b[0m\u001b[1;33m)\u001b[0m\u001b[1;33m\u001b[0m\u001b[1;33m\u001b[0m\u001b[0m\n\u001b[0m\u001b[0;32m      2\u001b[0m \u001b[0mout2\u001b[0m \u001b[1;33m=\u001b[0m \u001b[0mnp\u001b[0m\u001b[1;33m.\u001b[0m\u001b[0margmax\u001b[0m\u001b[1;33m(\u001b[0m\u001b[0mout\u001b[0m\u001b[1;33m,\u001b[0m\u001b[0maxis\u001b[0m\u001b[1;33m=\u001b[0m\u001b[1;36m3\u001b[0m\u001b[1;33m)\u001b[0m\u001b[1;33m\u001b[0m\u001b[1;33m\u001b[0m\u001b[0m\n\u001b[0;32m      3\u001b[0m \u001b[0mplt\u001b[0m\u001b[1;33m.\u001b[0m\u001b[0mimshow\u001b[0m\u001b[1;33m(\u001b[0m\u001b[0mout2\u001b[0m\u001b[1;33m[\u001b[0m\u001b[1;36m0\u001b[0m\u001b[1;33m]\u001b[0m\u001b[1;33m,\u001b[0m\u001b[0mcmap\u001b[0m\u001b[1;33m=\u001b[0m\u001b[1;34m'gnuplot'\u001b[0m\u001b[1;33m)\u001b[0m\u001b[1;33m\u001b[0m\u001b[1;33m\u001b[0m\u001b[0m\n",
            "\u001b[1;31mNameError\u001b[0m: name 'model' is not defined"
          ]
        }
      ],
      "source": [
        "out = model.predict(tf.reshape(reader.X_train[1],(-1,128,128,1)))\n",
        "out2 = np.argmax(out,axis=3)\n",
        "plt.imshow(out2[0],cmap='gnuplot')"
      ]
    },
    {
      "cell_type": "code",
      "execution_count": 38,
      "metadata": {},
      "outputs": [
        {
          "name": "stdout",
          "output_type": "stream",
          "text": [
            "Saving pruned model to:  C:\\Users\\halsali\\AppData\\Local\\Temp\\tmpwair0rmw.h5\n"
          ]
        },
        {
          "ename": "NameError",
          "evalue": "name 'final_pruned_model' is not defined",
          "output_type": "error",
          "traceback": [
            "\u001b[1;31m---------------------------------------------------------------------------\u001b[0m",
            "\u001b[1;31mNameError\u001b[0m                                 Traceback (most recent call last)",
            "\u001b[1;32m~\\AppData\\Local\\Temp/ipykernel_22896/4026402222.py\u001b[0m in \u001b[0;36m<module>\u001b[1;34m\u001b[0m\n\u001b[0;32m      6\u001b[0m \u001b[1;33m\u001b[0m\u001b[0m\n\u001b[0;32m      7\u001b[0m \u001b[1;31m# No need to save the optimizer with the graph for serving.\u001b[0m\u001b[1;33m\u001b[0m\u001b[1;33m\u001b[0m\u001b[0m\n\u001b[1;32m----> 8\u001b[1;33m \u001b[0mtf\u001b[0m\u001b[1;33m.\u001b[0m\u001b[0mkeras\u001b[0m\u001b[1;33m.\u001b[0m\u001b[0mmodels\u001b[0m\u001b[1;33m.\u001b[0m\u001b[0msave_model\u001b[0m\u001b[1;33m(\u001b[0m\u001b[0mfinal_pruned_model\u001b[0m\u001b[1;33m,\u001b[0m \u001b[0mpruned_model_file\u001b[0m\u001b[1;33m,\u001b[0m \u001b[0minclude_optimizer\u001b[0m\u001b[1;33m=\u001b[0m\u001b[1;32mFalse\u001b[0m\u001b[1;33m)\u001b[0m   \u001b[1;31m# Saved to: C:\\Users\\halsali\\AppData\\Local\\Temp\\tmpxudrrqjj.h5\u001b[0m\u001b[1;33m\u001b[0m\u001b[1;33m\u001b[0m\u001b[0m\n\u001b[0m\u001b[0;32m      9\u001b[0m \u001b[1;33m\u001b[0m\u001b[0m\n\u001b[0;32m     10\u001b[0m \u001b[1;34m''\u001b[0m\u001b[1;33m\u001b[0m\u001b[1;33m\u001b[0m\u001b[0m\n",
            "\u001b[1;31mNameError\u001b[0m: name 'final_pruned_model' is not defined"
          ]
        }
      ],
      "source": [
        "# Save both Pruned and UNpruned versions \n",
        "\n",
        "''\n",
        "_, pruned_model_file = tempfile.mkstemp('.h5')\n",
        "print('Saving pruned model to: ', pruned_model_file)\n",
        "\n",
        "# No need to save the optimizer with the graph for serving.\n",
        "tf.keras.models.save_model(final_pruned_model, pruned_model_file, include_optimizer=False)   # Saved to: C:\\Users\\halsali\\AppData\\Local\\Temp\\tmpxudrrqjj.h5\n",
        "\n",
        "''"
      ]
    },
    {
      "cell_type": "markdown",
      "metadata": {},
      "source": [
        "Compare the size of the unpruned vs. pruned model after compression"
      ]
    },
    {
      "cell_type": "code",
      "execution_count": 37,
      "metadata": {},
      "outputs": [
        {
          "ename": "NameError",
          "evalue": "name 'pruned_model_file' is not defined",
          "output_type": "error",
          "traceback": [
            "\u001b[1;31m---------------------------------------------------------------------------\u001b[0m",
            "\u001b[1;31mNameError\u001b[0m                                 Traceback (most recent call last)",
            "\u001b[1;32m~\\AppData\\Local\\Temp/ipykernel_22896/3941433093.py\u001b[0m in \u001b[0;36m<module>\u001b[1;34m\u001b[0m\n\u001b[0;32m     13\u001b[0m \u001b[0m_\u001b[0m\u001b[1;33m,\u001b[0m \u001b[0mzip2\u001b[0m \u001b[1;33m=\u001b[0m \u001b[0mtempfile\u001b[0m\u001b[1;33m.\u001b[0m\u001b[0mmkstemp\u001b[0m\u001b[1;33m(\u001b[0m\u001b[1;34m'.zip'\u001b[0m\u001b[1;33m)\u001b[0m\u001b[1;33m\u001b[0m\u001b[1;33m\u001b[0m\u001b[0m\n\u001b[0;32m     14\u001b[0m \u001b[1;32mwith\u001b[0m \u001b[0mzipfile\u001b[0m\u001b[1;33m.\u001b[0m\u001b[0mZipFile\u001b[0m\u001b[1;33m(\u001b[0m\u001b[0mzip2\u001b[0m\u001b[1;33m,\u001b[0m \u001b[1;34m'w'\u001b[0m\u001b[1;33m,\u001b[0m \u001b[0mcompression\u001b[0m\u001b[1;33m=\u001b[0m\u001b[0mzipfile\u001b[0m\u001b[1;33m.\u001b[0m\u001b[0mZIP_DEFLATED\u001b[0m\u001b[1;33m)\u001b[0m \u001b[1;32mas\u001b[0m \u001b[0mf\u001b[0m\u001b[1;33m:\u001b[0m\u001b[1;33m\u001b[0m\u001b[1;33m\u001b[0m\u001b[0m\n\u001b[1;32m---> 15\u001b[1;33m   \u001b[0mf\u001b[0m\u001b[1;33m.\u001b[0m\u001b[0mwrite\u001b[0m\u001b[1;33m(\u001b[0m\u001b[0mpruned_model_file\u001b[0m\u001b[1;33m)\u001b[0m\u001b[1;33m\u001b[0m\u001b[1;33m\u001b[0m\u001b[0m\n\u001b[0m\u001b[0;32m     16\u001b[0m print(\"Size of the unpruned model before compression: %.2f Mb\" % \n\u001b[0;32m     17\u001b[0m       (os.path.getsize(pruned_model_file) / float(2**20)))\n",
            "\u001b[1;31mNameError\u001b[0m: name 'pruned_model_file' is not defined"
          ]
        }
      ],
      "source": [
        "# Compare the size of the unpruned vs. pruned model after compression\n",
        "\n",
        "\"\"\n",
        "\n",
        "# _, zip1 = tempfile.mkstemp('.zip') \n",
        "# with zipfile.ZipFile(zip1, 'w', compression=zipfile.ZIP_DEFLATED) as f:\n",
        "#   f.write(keras_file)\n",
        "# print(\"Size of the unpruned model before compression: %.2f Mb\" % \n",
        "#       (os.path.getsize(keras_file) / float(2**20)))\n",
        "# print(\"Size of the unpruned model after compression: %.2f Mb\" % \n",
        "#       (os.path.getsize(zip1) / float(2**20)))\n",
        "\n",
        "_, zip2 = tempfile.mkstemp('.zip') \n",
        "with zipfile.ZipFile(zip2, 'w', compression=zipfile.ZIP_DEFLATED) as f:\n",
        "  f.write(pruned_model_file)\n",
        "print(\"Size of the unpruned model before compression: %.2f Mb\" % \n",
        "      (os.path.getsize(pruned_model_file) / float(2**20)))\n",
        "print(\"Size of the pruned model after compression: %.2f Mb\" % \n",
        "      (os.path.getsize(zip2) / float(2**20)))\n",
        "\n",
        "\"\""
      ]
    },
    {
      "cell_type": "code",
      "execution_count": 40,
      "metadata": {},
      "outputs": [],
      "source": [
        "import shelve"
      ]
    },
    {
      "cell_type": "code",
      "execution_count": 45,
      "metadata": {},
      "outputs": [],
      "source": [
        "import pickle\n",
        "\n",
        "def backup(fileName):\n",
        "    pickle.dump(globals(), open(fileName,'w'), pickle.HIGHEST_PROTOCOL)\n",
        "\n",
        "def restore(fileName):\n",
        "    globals().update(pickle.load(open(fileName,\"rb\"))) "
      ]
    },
    {
      "cell_type": "code",
      "execution_count": 53,
      "metadata": {},
      "outputs": [],
      "source": [
        "with open(\"losses\", \"wb\") as f:\n",
        "    pickle.dump(history.history[\"loss\"], f)\n",
        "    pickle.dump(history.history[\"loss\"], f)\n"
      ]
    },
    {
      "cell_type": "code",
      "execution_count": 71,
      "metadata": {},
      "outputs": [
        {
          "data": {
            "image/png": "[encoded data removed]",
            "text/plain": [
              "<Figure size 576x432 with 1 Axes>"
            ]
          },
          "metadata": {
            "needs_background": "light"
          },
          "output_type": "display_data"
        }
      ],
      "source": [
        "plt.figure(figsize=(8,6))\n",
        "plt.plot(history.history[\"loss\"])\n",
        "plt.xlabel(\"Epoch\", size = 16)\n",
        "plt.ylabel(\"Loss\", size = 16)\n",
        "plt.ylim([0, 0.2])\n",
        "plt.xlim([1,300])\n",
        "plt.savefig('Loss.pdf', dpi=720, bbox_inches='tight')\n",
        "plt.savefig('Loss.PNG', dpi=720, bbox_inches='tight')"
      ]
    },
    {
      "cell_type": "code",
      "execution_count": 70,
      "metadata": {},
      "outputs": [
        {
          "data": {
            "text/plain": [
              "(1.0, 300.0)"
            ]
          },
          "execution_count": 70,
          "metadata": {},
          "output_type": "execute_result"
        },
        {
          "data": {
            "image/png": "[encoded data removed]",
            "text/plain": [
              "<Figure size 576x432 with 1 Axes>"
            ]
          },
          "metadata": {
            "needs_background": "light"
          },
          "output_type": "display_data"
        }
      ],
      "source": [
        "plt.figure(figsize=(8,6))\n",
        "plt.plot(history.history[\"val_loss\"])\n",
        "plt.xlabel(\"Epoch\", size = 16)\n",
        "plt.ylabel(\"Loss\", size = 16)\n",
        "plt.ylim([0.13, 0.16])\n",
        "plt.xlim([1,300])\n",
        "#plt.savefig('Loss.pdf', dpi=300, bbox_inches='tight')"
      ]
    },
    {
      "cell_type": "code",
      "execution_count": 75,
      "metadata": {},
      "outputs": [],
      "source": [
        "pred = model.predict(tf.reshape(reader.X_train[456],(-1,128,128,1)))\n",
        "pred = np.argmax(pred,axis=3)[0]"
      ]
    },
    {
      "cell_type": "code",
      "execution_count": 98,
      "metadata": {},
      "outputs": [],
      "source": [
        "imge = reader.X_train[456]"
      ]
    },
    {
      "cell_type": "code",
      "execution_count": 102,
      "metadata": {},
      "outputs": [
        {
          "ename": "error",
          "evalue": "OpenCV(4.5.5) :-1: error: (-5:Bad argument) in function 'resize'\n> Overload resolution failed:\n>  - src data type = 23 is not supported\n>  - Expected Ptr<cv::UMat> for argument 'src'\n",
          "output_type": "error",
          "traceback": [
            "\u001b[1;31m---------------------------------------------------------------------------\u001b[0m",
            "\u001b[1;31merror\u001b[0m                                     Traceback (most recent call last)",
            "\u001b[1;32m~\\AppData\\Local\\Temp/ipykernel_24840/2881919035.py\u001b[0m in \u001b[0;36m<module>\u001b[1;34m\u001b[0m\n\u001b[1;32m----> 1\u001b[1;33m \u001b[0mimge\u001b[0m \u001b[1;33m=\u001b[0m \u001b[0mcv2\u001b[0m\u001b[1;33m.\u001b[0m\u001b[0mresize\u001b[0m\u001b[1;33m(\u001b[0m\u001b[0mimge\u001b[0m\u001b[1;33m,\u001b[0m \u001b[1;33m(\u001b[0m\u001b[1;36m88\u001b[0m\u001b[1;33m,\u001b[0m\u001b[1;36m88\u001b[0m\u001b[1;33m)\u001b[0m\u001b[1;33m)\u001b[0m\u001b[1;33m\u001b[0m\u001b[1;33m\u001b[0m\u001b[0m\n\u001b[0m",
            "\u001b[1;31merror\u001b[0m: OpenCV(4.5.5) :-1: error: (-5:Bad argument) in function 'resize'\n> Overload resolution failed:\n>  - src data type = 23 is not supported\n>  - Expected Ptr<cv::UMat> for argument 'src'\n"
          ]
        }
      ],
      "source": [
        "imge = cv2.resize(imge, (88,88))"
      ]
    },
    {
      "cell_type": "code",
      "execution_count": 103,
      "metadata": {},
      "outputs": [
        {
          "ename": "error",
          "evalue": "OpenCV(4.5.5) D:\\a\\opencv-python\\opencv-python\\opencv\\modules\\imgproc\\src\\resize.cpp:3930: error: (-215:Assertion failed) func != 0 in function 'cv::hal::resize'\n",
          "output_type": "error",
          "traceback": [
            "\u001b[1;31m---------------------------------------------------------------------------\u001b[0m",
            "\u001b[1;31merror\u001b[0m                                     Traceback (most recent call last)",
            "\u001b[1;32m~\\AppData\\Local\\Temp/ipykernel_24840/1437649109.py\u001b[0m in \u001b[0;36m<module>\u001b[1;34m\u001b[0m\n\u001b[1;32m----> 1\u001b[1;33m \u001b[0mpred2\u001b[0m \u001b[1;33m=\u001b[0m \u001b[0mcv2\u001b[0m\u001b[1;33m.\u001b[0m\u001b[0mresize\u001b[0m\u001b[1;33m(\u001b[0m\u001b[0mpred\u001b[0m\u001b[1;33m,\u001b[0m \u001b[1;33m(\u001b[0m\u001b[1;36m128\u001b[0m\u001b[1;33m,\u001b[0m\u001b[1;36m128\u001b[0m\u001b[1;33m)\u001b[0m\u001b[1;33m)\u001b[0m\u001b[1;33m\u001b[0m\u001b[1;33m\u001b[0m\u001b[0m\n\u001b[0m",
            "\u001b[1;31merror\u001b[0m: OpenCV(4.5.5) D:\\a\\opencv-python\\opencv-python\\opencv\\modules\\imgproc\\src\\resize.cpp:3930: error: (-215:Assertion failed) func != 0 in function 'cv::hal::resize'\n"
          ]
        }
      ],
      "source": [
        "pred2 = cv2.resize(pred, (128,128))"
      ]
    },
    {
      "cell_type": "code",
      "execution_count": 83,
      "metadata": {},
      "outputs": [
        {
          "data": {
            "text/plain": [
              "numpy.ndarray"
            ]
          },
          "execution_count": 83,
          "metadata": {},
          "output_type": "execute_result"
        }
      ],
      "source": [
        "type(img_arr_resized)"
      ]
    },
    {
      "cell_type": "code",
      "execution_count": 76,
      "metadata": {},
      "outputs": [],
      "source": [
        "from PIL import Image"
      ]
    },
    {
      "cell_type": "code",
      "execution_count": null,
      "metadata": {},
      "outputs": [],
      "source": [
        "\n",
        "\n",
        "new_pred = np.zeros((reader.des_box_size, reader.des_box_size, 3),dtype=np.uint8)\n",
        "new_pred[pred==0] = img_arr_resized[pred==0]\n",
        "new_pred[pred==1] = [255,228,0] #open\n",
        "new_pred[pred==2] = [1,0,255] #short\n",
        "new_pred[pred==3] = [29,219,22] #mousebite\n",
        "new_pred[pred==4] = [255,0,0] #spur\n",
        "new_pred[pred==5] = [103,0,0] #copper\n",
        "new_pred[pred==6] = [255,0,127] #pin-hole\n",
        "blend_img1=Image.fromarray(img_arr_resized)\n",
        "blend_img2=Image.fromarray(new_pred)\n",
        "blend_img=Image.blend(blend_img1,blend_img2,0.5)"
      ]
    }
  ],
  "metadata": {
    "accelerator": "GPU",
    "colab": {
      "collapsed_sections": [],
      "name": "DNNCourseProject_Code.ipynb",
      "provenance": []
    },
    "kernelspec": {
      "display_name": "Python 3",
      "name": "python3"
    },
    "language_info": {
      "codemirror_mode": {
        "name": "ipython",
        "version": 3
      },
      "file_extension": ".py",
      "mimetype": "text/x-python",
      "name": "python",
      "nbconvert_exporter": "python",
      "pygments_lexer": "ipython3",
      "version": "3.7.9"
    }
  },
  "nbformat": 4,
  "nbformat_minor": 0
}
